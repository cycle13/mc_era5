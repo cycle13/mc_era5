{
 "cells": [
  {
   "cell_type": "code",
   "execution_count": null,
   "metadata": {},
   "outputs": [],
   "source": [
    "# from cf_units import Unit\n",
    "# from IPython.core.display import clear_output\n",
    "import matplotlib.pyplot as plt\n",
    "from matplotlib.offsetbox import AnchoredText\n",
    "import matplotlib.patheffects as PathEffects\n",
    "from mpl_toolkits.axes_grid1.inset_locator import inset_axes\n",
    "import numpy as np\n",
    "import xarray as xr\n",
    "import string\n",
    "\n",
    "import arke\n",
    "from arke.cart import lcc_map, lcc_map_grid\n",
    "\n",
    "from common_defs import winters, nyr, winter_dates, aliases, datasets, period, bbox\n",
    "from plot_utils import LCC_KW, trans, clev101, abs_plt_kw, iletters, use_style\n",
    "import mypaths\n",
    "\n",
    "from octant.core import TrackRun\n",
    "from octant.decor import get_pbar\n",
    "from octant.misc import calc_all_dens, DENSITY_TYPES\n",
    "import octant\n",
    "\n",
    "octant.__version__"
   ]
  },
  {
   "cell_type": "code",
   "execution_count": null,
   "metadata": {},
   "outputs": [],
   "source": [
    "from scipy.ndimage.filters import gaussian_filter"
   ]
  },
  {
   "cell_type": "code",
   "execution_count": null,
   "metadata": {},
   "outputs": [],
   "source": [
    "octant.RUNTIME.enable_progress_bar = True\n",
    "\n",
    "pbar = get_pbar()"
   ]
  },
  {
   "cell_type": "code",
   "execution_count": null,
   "metadata": {},
   "outputs": [],
   "source": [
    "from categorise_and_save import get_lsm"
   ]
  },
  {
   "cell_type": "code",
   "execution_count": null,
   "metadata": {},
   "outputs": [],
   "source": [
    "# import warnings\n",
    "\n",
    "# warnings.filterwarnings(\"ignore\", category=RuntimeWarning, module=\"dask\")\n",
    "# warnings.filterwarnings(\"ignore\", category=UserWarning, module=\"matplotlib\")"
   ]
  },
  {
   "cell_type": "code",
   "execution_count": null,
   "metadata": {},
   "outputs": [],
   "source": [
    "lsm = get_lsm(mypaths.era5_dir / \"lsm.nc\", bbox=bbox, shift=True)\n",
    "lon2d, lat2d = np.meshgrid(lsm.longitude, lsm.latitude)"
   ]
  },
  {
   "cell_type": "markdown",
   "metadata": {},
   "source": [
    "#### Grids and arrays for density calculation"
   ]
  },
  {
   "cell_type": "code",
   "execution_count": null,
   "metadata": {},
   "outputs": [],
   "source": [
    "lon_dens1d = np.arange(-20.0, 50.1, 1)  # 0.3)\n",
    "lat_dens1d = np.arange(70.0, 85.1, 1)  # 0.3)\n",
    "grid_str = \"1deg\"\n",
    "# lon_dens, lat_dens = np.meshgrid(lon_dens1d, lat_dens1d)"
   ]
  },
  {
   "cell_type": "markdown",
   "metadata": {},
   "source": [
    "### Mean sea ice edge position"
   ]
  },
  {
   "cell_type": "code",
   "execution_count": null,
   "metadata": {},
   "outputs": [],
   "source": [
    "# sea_ice_ds = xr.open_mfdataset(sorted(mypaths.era5_dir.glob(\"*.ci.nc\")))"
   ]
  },
  {
   "cell_type": "code",
   "execution_count": null,
   "metadata": {},
   "outputs": [],
   "source": [
    "# sea_ice_conc = sea_ice_ds.ci[\n",
    "#     :,\n",
    "#     (sea_ice_ds.latitude >= 65) & (sea_ice_ds.latitude <= 85),\n",
    "#     (sea_ice_ds.longitude >= -20) & (sea_ice_ds.longitude <= 50),\n",
    "# ]"
   ]
  },
  {
   "cell_type": "code",
   "execution_count": null,
   "metadata": {},
   "outputs": [],
   "source": [
    "# sic_thresh = 0.15  # 15% threshold"
   ]
  },
  {
   "cell_type": "code",
   "execution_count": null,
   "metadata": {},
   "outputs": [],
   "source": [
    "# sea_ice_conc_mean = sea_ice_conc.mean(dim='time')"
   ]
  },
  {
   "cell_type": "markdown",
   "metadata": {},
   "source": [
    "## Calculate density"
   ]
  },
  {
   "cell_type": "code",
   "execution_count": null,
   "metadata": {},
   "outputs": [],
   "source": [
    "runs2process = dict(era5=[0], interim=[0])\n",
    "method = \"cell\""
   ]
  },
  {
   "cell_type": "code",
   "execution_count": null,
   "metadata": {},
   "outputs": [],
   "source": [
    "for dset in pbar(datasets):\n",
    "    for run_num in pbar(runs2process[dset]):\n",
    "        track_run = TrackRun.from_archive(mypaths.procdir / f\"{dset}_run{run_num:03d}_{period}.h5\")\n",
    "\n",
    "        all_dens = calc_all_dens(track_run, lon_dens1d, lat_dens1d, method=method)\n",
    "        attrs = all_dens.attrs.copy()\n",
    "        all_dens = all_dens / nyr\n",
    "        all_dens.attrs.update(attrs)\n",
    "\n",
    "    all_dens.to_netcdf(mypaths.procdir / f\"all_dens_{dset}_{period}_{method}_{grid_str}.nc\")"
   ]
  },
  {
   "cell_type": "code",
   "execution_count": null,
   "metadata": {},
   "outputs": [],
   "source": [
    "AXGR_KW = dict(\n",
    "    axes_pad=0.45)  # , cbar_location=\"right\", cbar_mode=\"single\", cbar_pad=0.1, cbar_size=\"3%\"\n",
    "# )\n",
    "diff_plt_kw = dict(cmap=\"coolwarm\", extend=\"both\", **trans)\n",
    "cntr_kw = dict(colors=\"#222222\", linewidths=0.5, **trans)\n",
    "cntr_lab_kw = dict(fmt=\"%3.0f\", colors=\"k\")\n",
    "ci_kw = dict(levels=[0.15], linewidths=4, **trans)\n",
    "at_kw = dict(loc=2, prop=dict(size=\"small\"))\n",
    "text_kw = dict(\n",
    "    ha=\"center\",\n",
    "    fontsize=\"xx-large\",\n",
    "    path_effects=[PathEffects.withStroke(linewidth=3, foreground=\"w\")],\n",
    ")"
   ]
  },
  {
   "cell_type": "markdown",
   "metadata": {},
   "source": [
    "$g(x)={\\frac  {1}{{\\sqrt  {2\\pi }}\\cdot \\sigma }}\\cdot e^{{-{\\frac  {x^{2}}{2\\sigma ^{2}}}}}$"
   ]
  },
  {
   "cell_type": "markdown",
   "metadata": {
    "toc-hr-collapsed": false
   },
   "source": [
    "### Load tracks"
   ]
  },
  {
   "cell_type": "code",
   "execution_count": null,
   "metadata": {},
   "outputs": [],
   "source": [
    "runs2process = dict(era5=[0], interim=[0])\n",
    "method = \"cell\"\n",
    "subsets = [\"pmc\"]"
   ]
  },
  {
   "cell_type": "code",
   "execution_count": null,
   "metadata": {},
   "outputs": [],
   "source": [
    "track_runs = {}\n",
    "for dset in pbar(datasets):\n",
    "    track_runs[dset] = {}\n",
    "    for run_num in pbar(runs2process[dset]):\n",
    "        track_runs[dset][f\"run{run_num:03d}\"] = TrackRun.from_archive(\n",
    "            mypaths.procdir / f\"{dset}_run{run_num:03d}_{period}.h5\"\n",
    "        )"
   ]
  },
  {
   "cell_type": "code",
   "execution_count": null,
   "metadata": {},
   "outputs": [],
   "source": [
    "kwargs = dict(sigma = (0, 0, 1, 2.5))\n",
    "smooth_func = gaussian_filter"
   ]
  },
  {
   "cell_type": "code",
   "execution_count": null,
   "metadata": {},
   "outputs": [],
   "source": [
    "for dset in pbar(datasets):\n",
    "    for run_num in pbar(runs2process[dset]):\n",
    "        all_dens = calc_all_dens(track_runs[dset][f\"run{run_num:03d}\"], lon_dens1d, lat_dens1d, method=method)\n",
    "        attrs = all_dens.attrs.copy()\n",
    "        all_dens /= nyr\n",
    "        all_dens = xr.apply_ufunc(smooth_func, all_dens, kwargs=kwargs)\n",
    "\n",
    "        attrs[\"smooth\"] = f\"{smooth_func.__module__}.{smooth_func.__name__} with {kwargs}\"\n",
    "\n",
    "        all_dens.attrs.update(attrs)\n",
    "        all_dens.to_netcdf(\n",
    "            mypaths.procdir / f\"all_dens_{dset}_run{run_num:03d}_{period}_{method}_{grid_str}_smoothed.nc\"\n",
    "        )\n",
    "# clear_output()"
   ]
  },
  {
   "cell_type": "code",
   "execution_count": null,
   "metadata": {},
   "outputs": [],
   "source": [
    "# from ipywidgets import interact\n",
    "# @interact(dens_type=DENSITY_TYPES, subset=[\"pmc\"], dset=datasets)\n",
    "# def fun(dset, dens_type=\"track\", subset=\"moderate\"):\n",
    "\n",
    "#     fig = plt.figure(figsize=(10, 10))\n",
    "#     ax = lcc_map(fig, **LCC_KW)\n",
    "\n",
    "#     with xr.open_dataarray(\n",
    "#         mypaths.procdir\n",
    "#         / f\"all_dens_{dset}_run{run_num:03d}_{period}_{method}_{grid_str}_smoothed.nc\"\n",
    "#     ) as all_dens:\n",
    "\n",
    "#         h = all_dens.sel(subset=subset, dens_type=dens_type).plot.contourf(\n",
    "#             add_colorbar=False, ax=ax, **abs_plt_kw\n",
    "#         )\n",
    "#         cb = fig.colorbar(h, pad=0.01, shrink=0.7)"
   ]
  },
  {
   "cell_type": "code",
   "execution_count": null,
   "metadata": {},
   "outputs": [],
   "source": [
    "def smooth_bell(r, a=250, b=100):\n",
    "    return np.where(r < a, (a ** 2 - r ** 2) / (a ** 2 + r ** 2 * (a ** 2 / b ** 2 - 1)), 0)"
   ]
  },
  {
   "cell_type": "code",
   "execution_count": null,
   "metadata": {},
   "outputs": [],
   "source": [
    "rr = np.arange(0, 500, 10)\n",
    "plt.plot(rr, smooth_bell(rr));"
   ]
  },
  {
   "cell_type": "code",
   "execution_count": null,
   "metadata": {},
   "outputs": [],
   "source": [
    "ncol = len(datasets)\n",
    "nrow = len(subsets)\n",
    "\n",
    "for dens_type in pbar(DENSITY_TYPES):\n",
    "    fig = plt.figure(figsize=(ncol * 5, nrow * 5))\n",
    "    axgr = lcc_map_grid(fig, (nrow, ncol), **LCC_KW, **AXGR_KW)\n",
    "\n",
    "    ttl = f\"{dens_type.capitalize()} density\\n{period.replace('_', '-')} ({nyr} winters)\"\n",
    "    fig.suptitle(\n",
    "        ttl,\n",
    "        x=axgr.axes_all[0].get_position().get_points()[0, 0],\n",
    "        transform=axgr.axes_all[0].transAxes,\n",
    "        ha=\"left\",\n",
    "        fontsize=\"large\",\n",
    "    )\n",
    "\n",
    "    iletters = iter(string.ascii_lowercase)\n",
    "    for ax in axgr.axes_all:\n",
    "        ax.set_title(f\"({next(iletters)})\", loc=\"left\", fontsize=\"medium\")\n",
    "    # iter_cax = iter(axgr.cbar_axes)\n",
    "    for axcol, dset in zip(axgr.axes_column, datasets):\n",
    "\n",
    "        with xr.open_dataarray(\n",
    "            mypaths.procdir\n",
    "            / f\"all_dens_{dset}_run{run_num:03d}_{period}_{method}_{grid_str}_smoothed.nc\"\n",
    "        ) as all_dens:\n",
    "            for ax, subset in zip(axcol, subsets):\n",
    "\n",
    "                data = all_dens.sel(subset=subset, dens_type=dens_type)\n",
    "                lab = aliases[dset]  # \"\\n\".join(dset_label.split(\", \"))\n",
    "                txt = f\"{lab}\\n{subset}\"\n",
    "                ax.add_artist(AnchoredText(txt, **at_kw))\n",
    "                #             try:\n",
    "                #                 h = data.plot.contourf(ax=ax, robust=True, add_colorbar=False, add_labels=False, **abs_plt_kw)\n",
    "                #             except:\n",
    "                h = data.plot.contourf(\n",
    "                    ax=ax, robust=True, add_colorbar=False, add_labels=False, **abs_plt_kw\n",
    "                )\n",
    "\n",
    "                # Overlay with sea ice edge\n",
    "                # sea_ice_conc_mean.plot.contour(ax=ax, add_labels=False, colors=\"C0\", **ci_kw)\n",
    "\n",
    "                cax = inset_axes(ax, borderpad=0.5, width=\"4%\", height=\"45%\", loc=\"upper left\")\n",
    "\n",
    "                # cax = next(iter_cax)\n",
    "                cb = fig.colorbar(h, orientation=\"vertical\", cax=cax)\n",
    "                cb.ax.tick_params(labelsize=\"large\")\n",
    "                for i in cb.ax.get_yticklabels():\n",
    "                    i.set_path_effects([PathEffects.withStroke(linewidth=2, foreground=\"w\")])\n",
    "#     fig.savefig(mypaths.plotdir / f'era5_vs_interim_{dens_type}_density_cell_norm_smooth')\n",
    "#     plt.close()"
   ]
  }
 ],
 "metadata": {
  "kernelspec": {
   "display_name": "Python [conda env:clim]",
   "language": "python",
   "name": "conda-env-clim-py"
  },
  "language_info": {
   "codemirror_mode": {
    "name": "ipython",
    "version": 3
   },
   "file_extension": ".py",
   "mimetype": "text/x-python",
   "name": "python",
   "nbconvert_exporter": "python",
   "pygments_lexer": "ipython3",
   "version": "3.7.1"
  },
  "toc-autonumbering": false,
  "toc-showcode": false,
  "toc-showmarkdowntxt": false,
  "toc-showtags": true,
  "varInspector": {
   "cols": {
    "lenName": 16,
    "lenType": 16,
    "lenVar": 40
   },
   "kernels_config": {
    "python": {
     "delete_cmd_postfix": "",
     "delete_cmd_prefix": "del ",
     "library": "var_list.py",
     "varRefreshCmd": "print(var_dic_list())"
    },
    "r": {
     "delete_cmd_postfix": ") ",
     "delete_cmd_prefix": "rm(",
     "library": "var_list.r",
     "varRefreshCmd": "cat(var_dic_list()) "
    }
   },
   "types_to_exclude": [
    "module",
    "function",
    "builtin_function_or_method",
    "instance",
    "_Feature"
   ],
   "window_display": false
  }
 },
 "nbformat": 4,
 "nbformat_minor": 2
}
